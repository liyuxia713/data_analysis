{
 "cells": [
  {
   "cell_type": "markdown",
   "metadata": {},
   "source": [
    "# 存为htm的excel恢复\n",
    "\n",
    "原因：excel里有多个sheet的情况下手动复制粘贴太慢\n",
    "\n",
    "存为htm会有一个.htm和一个文件夹, .htm里有所有sheet的列表， 文件夹里有每个sheet的htm"
   ]
  },
  {
   "cell_type": "code",
   "execution_count": 42,
   "metadata": {},
   "outputs": [],
   "source": [
    "import pandas as pd"
   ]
  },
  {
   "cell_type": "markdown",
   "metadata": {},
   "source": [
    "## 读sheet列表\n",
    "我这里是先vim编辑成只保留一列sheet名了"
   ]
  },
  {
   "cell_type": "code",
   "execution_count": 44,
   "metadata": {},
   "outputs": [
    {
     "data": {
      "text/html": [
       "<div>\n",
       "<style scoped>\n",
       "    .dataframe tbody tr th:only-of-type {\n",
       "        vertical-align: middle;\n",
       "    }\n",
       "\n",
       "    .dataframe tbody tr th {\n",
       "        vertical-align: top;\n",
       "    }\n",
       "\n",
       "    .dataframe thead th {\n",
       "        text-align: right;\n",
       "    }\n",
       "</style>\n",
       "<table border=\"1\" class=\"dataframe\">\n",
       "  <thead>\n",
       "    <tr style=\"text-align: right;\">\n",
       "      <th></th>\n",
       "      <th>name</th>\n",
       "    </tr>\n",
       "  </thead>\n",
       "  <tbody>\n",
       "    <tr>\n",
       "      <th>0</th>\n",
       "      <td>原始数据invest&amp;amp;merger_2014_2018</td>\n",
       "    </tr>\n",
       "    <tr>\n",
       "      <th>1</th>\n",
       "      <td>电商2017</td>\n",
       "    </tr>\n",
       "    <tr>\n",
       "      <th>2</th>\n",
       "      <td>本地生活2014</td>\n",
       "    </tr>\n",
       "    <tr>\n",
       "      <th>3</th>\n",
       "      <td>本地生活2015</td>\n",
       "    </tr>\n",
       "    <tr>\n",
       "      <th>4</th>\n",
       "      <td>本地生活2016</td>\n",
       "    </tr>\n",
       "  </tbody>\n",
       "</table>\n",
       "</div>"
      ],
      "text/plain": [
       "                              name\n",
       "0  原始数据invest&amp;merger_2014_2018\n",
       "1                           电商2017\n",
       "2                         本地生活2014\n",
       "3                         本地生活2015\n",
       "4                         本地生活2016"
      ]
     },
     "execution_count": 44,
     "metadata": {},
     "output_type": "execute_result"
    }
   ],
   "source": [
    "df_names = pd.read_table('list.txt', names=['name'])\n",
    "df_names.head()"
   ]
  },
  {
   "cell_type": "markdown",
   "metadata": {},
   "source": [
    "## 读文件夹下每个sheet"
   ]
  },
  {
   "cell_type": "code",
   "execution_count": 40,
   "metadata": {},
   "outputs": [
    {
     "name": "stdout",
     "output_type": "stream",
     "text": [
      "1:原始数据invest&amp;merger_2014_2018\n",
      "2:电商2017\n",
      "3:本地生活2014\n",
      "4:本地生活2015\n",
      "5:本地生活2016\n",
      "6:本地生活2017\n",
      "7:本地生活2018\n",
      "8:电商2014\n",
      "9:电商2015\n",
      "10:电商2016\n",
      "11:电商2018\n",
      "12:房产服务2014\n",
      "13:房产服务2015\n",
      "14:房产服务2016\n",
      "15:房产服务2017\n",
      "16:房产服务2018\n",
      "17:工具软件2014\n",
      "18:工具软件2015\n",
      "19:工具软件2016\n",
      "20:工具软件2017\n",
      "21:工具软件2018\n",
      "22:广告营销2015\n",
      "23:广告营销2016\n",
      "24:广告营销2017\n",
      "25:广告营销2018\n",
      "26:教育2015\n",
      "27:教育2016\n",
      "28:教育2017\n",
      "29:教育2018\n",
      "30:金融2015\n",
      "31:金融2016\n",
      "32:金融2017\n",
      "33:金融2018\n",
      "34:旅游2015\n",
      "35:旅游2016\n",
      "36:旅游2017\n",
      "37:旅游2018\n",
      "38:农业2015\n",
      "39:农业2016\n",
      "40:农业2017\n",
      "41:农业2018\n",
      "42:企业服务2015\n",
      "43:企业服务2016\n",
      "44:企业服务2017\n",
      "45:企业服务2018\n",
      "46:汽车交通2015\n",
      "47:汽车交通2016\n",
      "48:汽车交通2017\n",
      "49:汽车交通2018\n",
      "50:社交网络2015\n",
      "51:社交网络2016\n",
      "52:社交网络2017\n",
      "53:社交网络2018\n",
      "54:体育运动2015\n",
      "55:体育运动2016\n",
      "56:体育运动2017\n",
      "57:体育运动2018\n",
      "58:文化娱乐2015\n",
      "59:文化娱乐2016\n",
      "60:文化娱乐2017\n",
      "61:文化娱乐2018\n",
      "62:文娱传媒2018\n",
      "63:物流2015\n",
      "64:物流2016\n",
      "65:物流2017\n",
      "66:物流2018\n",
      "67:医疗2015\n",
      "68:医疗2016\n",
      "69:医疗2017\n",
      "70:医疗2018\n",
      "71:游戏2015\n",
      "72:游戏2016\n",
      "73:游戏2017\n",
      "74:游戏2018\n",
      "75:HHI\n",
      "76:融资金额\n",
      "77:融资事件数\n",
      "78:抽取有用数据后\n"
     ]
    }
   ],
   "source": [
    "writer=pd.ExcelWriter('./jianan.xlsx', engine='xlsxwriter')\n",
    "for i in range(1,79):\n",
    "    n=str(i)\n",
    "    prefix = str(n.zfill(3))\n",
    "    sheet_name = df_names.iloc[i-1]['name']\n",
    "    print(\"%d:%s\" % (i, sheet_name))\n",
    "    dfs = pd.read_html('sheet%s.htm' % (prefix))\n",
    "    df = dfs[0]\n",
    "    df.to_excel(writer, sheet_name, header=None, index=False)\n",
    "writer.save()"
   ]
  },
  {
   "cell_type": "code",
   "execution_count": null,
   "metadata": {},
   "outputs": [],
   "source": []
  }
 ],
 "metadata": {
  "kernelspec": {
   "display_name": "Python 3",
   "language": "python",
   "name": "python3"
  },
  "language_info": {
   "codemirror_mode": {
    "name": "ipython",
    "version": 3
   },
   "file_extension": ".py",
   "mimetype": "text/x-python",
   "name": "python",
   "nbconvert_exporter": "python",
   "pygments_lexer": "ipython3",
   "version": "3.6.5"
  }
 },
 "nbformat": 4,
 "nbformat_minor": 2
}
